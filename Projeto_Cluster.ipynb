{
  "nbformat": 4,
  "nbformat_minor": 0,
  "metadata": {
    "colab": {
      "provenance": []
    },
    "kernelspec": {
      "name": "python3",
      "display_name": "Python 3"
    },
    "language_info": {
      "name": "python"
    }
  },
  "cells": [
    {
      "cell_type": "code",
      "execution_count": null,
      "metadata": {
        "id": "RGA8ybndQg1D"
      },
      "outputs": [],
      "source": [
        "import numpy as np\n",
        "import pandas as pd\n",
        "import matplotlib.pyplot as plt\n",
        "from sklearn.cluster import KMeans\n",
        "from sklearn.metrics import silhouette_score\n",
        "import sklearn.metrics as metrics\n",
        "import sklearn.cluster as cluster\n",
        "from sklearn.preprocessing import StandardScaler\n",
        "from sklearn.metrics import davies_bouldin_score\n",
        "from sklearn.metrics import silhouette_score, calinski_harabasz_score"
      ]
    },
    {
      "cell_type": "code",
      "source": [
        "df = pd.read_csv('/content/preprocessed_data.csv')\n",
        "df.head()"
      ],
      "metadata": {
        "id": "iOlb4oOESA4W"
      },
      "execution_count": null,
      "outputs": []
    },
    {
      "cell_type": "code",
      "source": [
        "df.info()"
      ],
      "metadata": {
        "id": "JszdCVYuSX7B"
      },
      "execution_count": null,
      "outputs": []
    },
    {
      "cell_type": "code",
      "source": [
        "df.columns"
      ],
      "metadata": {
        "id": "9pi50Jb-fGGg"
      },
      "execution_count": null,
      "outputs": []
    },
    {
      "cell_type": "markdown",
      "source": [
        "#Pré - processamento"
      ],
      "metadata": {
        "id": "kuebddBASe9M"
      }
    },
    {
      "cell_type": "markdown",
      "source": [
        "##Dados Faltantes"
      ],
      "metadata": {
        "id": "Kq_-vgxeSpI5"
      }
    },
    {
      "cell_type": "code",
      "source": [
        "df.info()"
      ],
      "metadata": {
        "id": "oHYLZp1BBJpR"
      },
      "execution_count": null,
      "outputs": []
    },
    {
      "cell_type": "code",
      "source": [
        "df.select_dtypes(include= 'object').describe()"
      ],
      "metadata": {
        "id": "3zKhV367H4ij"
      },
      "execution_count": null,
      "outputs": []
    },
    {
      "cell_type": "markdown",
      "source": [
        "##Transformando as variaveis categoricas"
      ],
      "metadata": {
        "id": "LWgJrmuHZHPv"
      }
    },
    {
      "cell_type": "markdown",
      "source": [
        "##Category"
      ],
      "metadata": {
        "id": "oUlk_AGBYiSs"
      }
    },
    {
      "cell_type": "code",
      "source": [
        "df['category'].unique()"
      ],
      "metadata": {
        "id": "5pAW_94KTkDK"
      },
      "execution_count": null,
      "outputs": []
    },
    {
      "cell_type": "code",
      "source": [
        "df['category']= df.category.str.split('|')\n",
        "df['category']  = df['category'].str[0]"
      ],
      "metadata": {
        "id": "dZApNB61ZQZs"
      },
      "execution_count": null,
      "outputs": []
    },
    {
      "cell_type": "code",
      "source": [
        "df['category'].unique()"
      ],
      "metadata": {
        "id": "NVtGRu9ZcPN6"
      },
      "execution_count": null,
      "outputs": []
    },
    {
      "cell_type": "markdown",
      "source": [
        "##Marca"
      ],
      "metadata": {
        "id": "qr9LjnBUG37I"
      }
    },
    {
      "cell_type": "code",
      "source": [
        "df.brand.nunique()\n",
        "#Valores diferentes"
      ],
      "metadata": {
        "id": "R9frU_6rTi5K"
      },
      "execution_count": null,
      "outputs": []
    },
    {
      "cell_type": "code",
      "source": [
        "df['brand'].unique()"
      ],
      "metadata": {
        "id": "YIYWFgxJAHvL"
      },
      "execution_count": null,
      "outputs": []
    },
    {
      "cell_type": "code",
      "source": [
        "df_encoded = pd.get_dummies(df[['category','brand']])\n",
        "\n",
        "\n",
        "df_final = pd.concat([df, df_encoded], axis=1)\n",
        "df_final.drop(['brand', 'category','subcategory','Unnamed: 0','event_time','event_type','category_code','user_session','product_id','category_id','user_id'], axis=1, inplace=True)\n",
        "df_final"
      ],
      "metadata": {
        "id": "KRhx8INAjkbE"
      },
      "execution_count": null,
      "outputs": []
    },
    {
      "cell_type": "code",
      "source": [
        "df_final.columns"
      ],
      "metadata": {
        "id": "hEHJbFHfKBlk"
      },
      "execution_count": null,
      "outputs": []
    },
    {
      "cell_type": "code",
      "source": [
        "df_final.info()"
      ],
      "metadata": {
        "id": "OfgIq010W60W"
      },
      "execution_count": null,
      "outputs": []
    },
    {
      "cell_type": "code",
      "source": [
        "X= df_final.values\n",
        "X"
      ],
      "metadata": {
        "id": "uX52_IrznjfM"
      },
      "execution_count": null,
      "outputs": []
    },
    {
      "cell_type": "markdown",
      "source": [
        "#Padronização dos dados"
      ],
      "metadata": {
        "id": "XYGPSqhm7RZR"
      }
    },
    {
      "cell_type": "code",
      "source": [
        "# Padronizando os dados\n",
        "scaler = StandardScaler()\n",
        "X = scaler.fit_transform(X)\n"
      ],
      "metadata": {
        "id": "Le9OoREM9q5n"
      },
      "execution_count": null,
      "outputs": []
    },
    {
      "cell_type": "markdown",
      "source": [
        "#Utilização PCA"
      ],
      "metadata": {
        "id": "TG76QOEDwLFh"
      }
    },
    {
      "cell_type": "code",
      "source": [
        "from sklearn.decomposition import PCA"
      ],
      "metadata": {
        "id": "Up3sss3RwP2k"
      },
      "execution_count": null,
      "outputs": []
    },
    {
      "cell_type": "code",
      "source": [
        "pca = PCA(n_components = 2 ).fit_transform(X)"
      ],
      "metadata": {
        "id": "YleFTY_WwS5p"
      },
      "execution_count": null,
      "outputs": []
    },
    {
      "cell_type": "markdown",
      "source": [
        "#Metodo Cotovelo"
      ],
      "metadata": {
        "id": "HqQhUi_3nxUX"
      }
    },
    {
      "cell_type": "code",
      "source": [
        "n_clusters = range(1, 11)\n",
        "cluster_sse = []\n",
        "for i in n_clusters:\n",
        "    kmeans = KMeans(n_clusters= i)\n",
        "    kmeans.fit(pca)\n",
        "    cluster_sse.append(kmeans.inertia_)\n",
        "\n",
        "plt.plot(n_clusters, cluster_sse, marker = \"o\")\n",
        "plt.show()"
      ],
      "metadata": {
        "id": "YNtTOSGqn1TP"
      },
      "execution_count": null,
      "outputs": []
    },
    {
      "cell_type": "code",
      "source": [
        "modelo_v1 = KMeans(n_clusters = 4,random_state=42)\n",
        "modelo_v1.fit(pca)"
      ],
      "metadata": {
        "id": "OjyQ4Ypvwmm5"
      },
      "execution_count": null,
      "outputs": []
    },
    {
      "cell_type": "code",
      "source": [
        "y_kmeans = modelo_v1.predict(pca)"
      ],
      "metadata": {
        "id": "R7Yl2zHkwv1j"
      },
      "execution_count": null,
      "outputs": []
    },
    {
      "cell_type": "code",
      "source": [
        "plt.figure(figsize=(8, 6))\n",
        "\n",
        "# Plotando os resultados\n",
        "scatter = plt.scatter(pca[:, 0], pca[:, 1], c=y_kmeans, s=50, cmap='viridis')\n",
        "\n",
        "# Plotando os centróides dos clusters\n",
        "centers = modelo_v1.cluster_centers_\n",
        "plt.scatter(centers[:, 0], centers[:, 1], c='red', s=200, alpha=0.5, label='Centroides')\n",
        "\n",
        "cluster_labels = {0: 'Cluster 0', 1: 'Cluster 1', 2: 'Cluster 2', 3: 'Cluster 3'}\n",
        "plt.legend(handles=scatter.legend_elements()[0], labels=[cluster_labels[i] for i in range(len(cluster_labels))], title='Cluster')\n",
        "\n",
        "plt.xlabel('Componente Principal 1')\n",
        "plt.ylabel('Componente Principal 2')\n",
        "plt.title('PCA com K-Means')\n",
        "plt.show()"
      ],
      "metadata": {
        "id": "yR3b4e1Pw192"
      },
      "execution_count": null,
      "outputs": []
    },
    {
      "cell_type": "markdown",
      "source": [
        "#KMeans"
      ],
      "metadata": {
        "id": "pLgYqM4soJG_"
      }
    },
    {
      "cell_type": "code",
      "source": [
        "#Aplicando o Kmeans\n",
        "kmeans = KMeans(n_clusters=4, random_state=42)\n",
        "kmeans.fit(X)"
      ],
      "metadata": {
        "id": "YfBKWyfZoOp6"
      },
      "execution_count": null,
      "outputs": []
    },
    {
      "cell_type": "code",
      "source": [
        "x_kmeans = kmeans.predict(X)"
      ],
      "metadata": {
        "id": "_vU-qgZXFFEg"
      },
      "execution_count": null,
      "outputs": []
    },
    {
      "cell_type": "code",
      "source": [
        "plt.figure(figsize=(8, 6))\n",
        "\n",
        "# Plotando os resultados\n",
        "scatter = plt.scatter(X[:, 0], X[:, 1], c=x_kmeans, s=50, cmap='viridis')\n",
        "\n",
        "# Plotando os centróides dos clusters\n",
        "centers = kmeans.cluster_centers_\n",
        "plt.scatter(centers[:, 0], centers[:, 1], c='red', s=200, alpha=0.5, label='Centroides')\n",
        "\n",
        "cluster_labels = {0: 'Cluster 0', 1: 'Cluster 1', 2: 'Cluster 2', 3: 'Cluster 3'}\n",
        "plt.legend(handles=scatter.legend_elements()[0], labels=[cluster_labels[i] for i in range(len(cluster_labels))], title='Cluster')\n",
        "\n",
        "plt.xlabel('Features 1 ')\n",
        "plt.ylabel('Features 2 ')\n",
        "plt.title('Cluster com K-Means')\n",
        "plt.show()\n"
      ],
      "metadata": {
        "id": "G-rwxV8dxBYF"
      },
      "execution_count": null,
      "outputs": []
    },
    {
      "cell_type": "markdown",
      "source": [
        "##Validação dos Cluster"
      ],
      "metadata": {
        "id": "Y1LtoivMKU_p"
      }
    },
    {
      "cell_type": "markdown",
      "source": [
        "O índice Calinski-Harabasz, também conhecido como Critério de Razão de Variância, é a razão entre a soma dedispersão entre clusterse dedispersão entre clusters para todos os clusters, quanto maior a pontuação, melhores serão os desempenhos."
      ],
      "metadata": {
        "id": "ZT8oJeuLsfIx"
      }
    },
    {
      "cell_type": "code",
      "source": [
        "previsoes = modelo_v1.predict(pca)\n",
        "#Calinski-Harabasz Score\n",
        "calinski_harabasz = calinski_harabasz_score(pca, previsoes)\n",
        "print(\"Calinski-Harabasz Score: {:.2f}\".format(calinski_harabasz))\n"
      ],
      "metadata": {
        "id": "wQMjNxKkEX3f"
      },
      "execution_count": null,
      "outputs": []
    },
    {
      "cell_type": "code",
      "source": [
        "previsoes = modelo_v1.predict(pca)\n",
        "\n",
        "# Calcule o Índice Davies-Bouldin\n",
        "db_score = davies_bouldin_score(pca, previsoes)\n",
        "\n",
        "print(\"Índice Davies-Bouldin: {:.4f}\".format(db_score))\n"
      ],
      "metadata": {
        "id": "ltMB7VjJGELp"
      },
      "execution_count": null,
      "outputs": []
    }
  ]
}